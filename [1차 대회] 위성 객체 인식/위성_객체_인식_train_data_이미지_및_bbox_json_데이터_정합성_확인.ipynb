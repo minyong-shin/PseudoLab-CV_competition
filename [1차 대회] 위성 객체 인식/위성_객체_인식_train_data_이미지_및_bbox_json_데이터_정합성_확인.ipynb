{
  "nbformat": 4,
  "nbformat_minor": 0,
  "metadata": {
    "colab": {
      "name": "위성 객체 인식  - train data 이미지 및 bbox json 데이터 정합성 확인.ipynb",
      "provenance": []
    },
    "kernelspec": {
      "name": "python3",
      "display_name": "Python 3"
    }
  },
  "cells": [
    {
      "cell_type": "code",
      "metadata": {
        "id": "Y9Q1ILX2G8nq"
      },
      "source": [
        "import os\n",
        "import json\n",
        "from typing import List\n",
        "import math\n",
        "from glob import glob\n",
        "\n",
        "from tqdm import tqdm\n",
        "import cv2\n",
        "import numpy as np\n",
        "from PIL import Image\n",
        "from pandas import json_normalize\n",
        "import pandas as pd\n",
        "import re\n",
        "import warnings\n",
        "\n",
        "import albumentations as A\n",
        "\n",
        "import torch\n",
        "import torchvision\n",
        "\n",
        "from torchvision.models.detection.faster_rcnn import FastRCNNPredictor\n",
        "from torchvision.models.detection import FasterRCNN\n",
        "from torchvision.models.detection.rpn import AnchorGenerator\n",
        "\n",
        "from torch.utils.data import DataLoader, Dataset\n",
        "from torch.utils.data.sampler import SequentialSampler\n",
        "\n",
        "# !pip freeze | grep albumentations\n",
        "# !pip install albumentations==0.4.6\n",
        "#from albumentations.pytorch.transforms import ToTensorV2\n",
        "\n",
        "from matplotlib import pyplot as plt\n",
        "warnings.filterwarnings(action='ignore')\n",
        "\n",
        "\n",
        "rootfolder = '/content/drive/My Drive/dacon - 위성 객체 인식/위성객체폴더'\n",
        "DIR_TRAIN = os.path.join(rootfolder,'train/images')\n"
      ],
      "execution_count": null,
      "outputs": []
    },
    {
      "cell_type": "code",
      "metadata": {
        "id": "kO0G4jN4L28Z"
      },
      "source": [
        "json_ls = os.listdir(os.path.join(rootfolder,'train/json/'))"
      ],
      "execution_count": null,
      "outputs": []
    },
    {
      "cell_type": "code",
      "metadata": {
        "id": "GsD6_f9HRV-5"
      },
      "source": [
        "nm = 'OBJ03589_PS3_K3A_NIA0151.json'"
      ],
      "execution_count": null,
      "outputs": []
    },
    {
      "cell_type": "code",
      "metadata": {
        "id": "_z-9M-5pRMo6"
      },
      "source": [
        "with open(os.path.join(rootfolder,f'train/json/{nm}')) as json_open:\n",
        "    json_file = json.load(json_open)"
      ],
      "execution_count": null,
      "outputs": []
    },
    {
      "cell_type": "code",
      "metadata": {
        "id": "odZO0IKURZ4y",
        "colab": {
          "base_uri": "https://localhost:8080/",
          "height": 1000
        },
        "outputId": "480ae451-0095-49e9-b2c5-9c4bf563b12c"
      },
      "source": [
        "json_file"
      ],
      "execution_count": null,
      "outputs": [
        {
          "output_type": "execute_result",
          "data": {
            "text/plain": [
              "{'features': [{'geometry': {'coordinates': [[[1, 1, 0.0],\n",
              "      [1, 1, 0.0],\n",
              "      [1, 1, 0.0],\n",
              "      [1, 1, 0.0]]],\n",
              "    'type': 'Polygon'},\n",
              "   'properties': {'building_imcoords': 'EMPTY',\n",
              "    'image_id': 'OBJ03589_PS3_K3A_NIA0151.png',\n",
              "    'ingest_time': '2020-09-18T08:50:32.091450Z',\n",
              "    'object_angle': 6.16525663383006,\n",
              "    'object_imcoords': '480.7764823560916,476.8751436078733,548.6785206340824,484.9200695789738,539.6848170639626,560.8301284499863,471.7827787859718,552.7852024788859',\n",
              "    'road_imcoords': 'EMPTY',\n",
              "    'type_id': '3',\n",
              "    'type_name': 'civilian aircraft'},\n",
              "   'type': 'Feature'},\n",
              "  {'geometry': {'coordinates': [[[1, 1, 0.0],\n",
              "      [1, 1, 0.0],\n",
              "      [1, 1, 0.0],\n",
              "      [1, 1, 0.0]]],\n",
              "    'type': 'Polygon'},\n",
              "   'properties': {'building_imcoords': 'EMPTY',\n",
              "    'image_id': 'OBJ03589_PS3_K3A_NIA0151.png',\n",
              "    'ingest_time': '2020-09-18T08:50:32.091450Z',\n",
              "    'object_angle': 0.05009021927389256,\n",
              "    'object_imcoords': '175.0753841081058,928.0478765667175,183.1000964147065,927.6455804536965,183.80530252700905,941.7125226510469,175.78059022040833,942.1148187640679',\n",
              "    'road_imcoords': 'EMPTY',\n",
              "    'type_id': '5',\n",
              "    'type_name': 'small car'},\n",
              "   'type': 'Feature'},\n",
              "  {'geometry': {'coordinates': [[[1, 1, 0.0],\n",
              "      [1, 1, 0.0],\n",
              "      [1, 1, 0.0],\n",
              "      [1, 1, 0.0]]],\n",
              "    'type': 'Polygon'},\n",
              "   'properties': {'building_imcoords': 'EMPTY',\n",
              "    'image_id': 'OBJ03589_PS3_K3A_NIA0151.png',\n",
              "    'ingest_time': '2020-09-18T08:50:32.091450Z',\n",
              "    'object_angle': 0.019474712304841917,\n",
              "    'object_imcoords': '194.8000251456933,923.4910355646784,202.83329150291462,923.3345702324254,203.1075678508507,937.416507277072,195.07430149362938,937.572972609325',\n",
              "    'road_imcoords': 'EMPTY',\n",
              "    'type_id': '5',\n",
              "    'type_name': 'small car'},\n",
              "   'type': 'Feature'},\n",
              "  {'geometry': {'coordinates': [[[1, 1, 0.0],\n",
              "      [1, 1, 0.0],\n",
              "      [1, 1, 0.0],\n",
              "      [1, 1, 0.0]]],\n",
              "    'type': 'Polygon'},\n",
              "   'properties': {'building_imcoords': 'EMPTY',\n",
              "    'image_id': 'OBJ03589_PS3_K3A_NIA0151.png',\n",
              "    'ingest_time': '2020-09-18T08:50:32.091450Z',\n",
              "    'object_angle': 1.5928368431642568,\n",
              "    'object_imcoords': '230.0021045533324,927.5690596101687,229.8548660954474,920.8897871013486,241.41843991307434,920.6348786851553,241.56567837095935,927.3141511939754',\n",
              "    'road_imcoords': 'EMPTY',\n",
              "    'type_id': '5',\n",
              "    'type_name': 'small car'},\n",
              "   'type': 'Feature'},\n",
              "  {'geometry': {'coordinates': [[[1, 1, 0.0],\n",
              "      [1, 1, 0.0],\n",
              "      [1, 1, 0.0],\n",
              "      [1, 1, 0.0]]],\n",
              "    'type': 'Polygon'},\n",
              "   'properties': {'building_imcoords': 'EMPTY',\n",
              "    'image_id': 'OBJ03589_PS3_K3A_NIA0151.png',\n",
              "    'ingest_time': '2020-09-18T08:50:32.091450Z',\n",
              "    'object_angle': 1.5928368431642568,\n",
              "    'object_imcoords': '231.47127099698795,934.852300636443,231.32403253910294,928.173028127623,242.8876063567299,927.9181197114297,243.0348448146149,934.5973922202497',\n",
              "    'road_imcoords': 'EMPTY',\n",
              "    'type_id': '5',\n",
              "    'type_name': 'small car'},\n",
              "   'type': 'Feature'},\n",
              "  {'geometry': {'coordinates': [[[1, 1, 0.0],\n",
              "      [1, 1, 0.0],\n",
              "      [1, 1, 0.0],\n",
              "      [1, 1, 0.0]]],\n",
              "    'type': 'Polygon'},\n",
              "   'properties': {'building_imcoords': 'EMPTY',\n",
              "    'image_id': 'OBJ03589_PS3_K3A_NIA0151.png',\n",
              "    'ingest_time': '2020-09-18T08:50:32.091450Z',\n",
              "    'object_angle': 0.05009021927389256,\n",
              "    'object_imcoords': '114.12942930306532,995.1074719741299,122.15414160966606,994.705175861109,122.8593477219686,1008.7721180584593,114.83463541536787,1009.1744141714803',\n",
              "    'road_imcoords': 'EMPTY',\n",
              "    'type_id': '5',\n",
              "    'type_name': 'small car'},\n",
              "   'type': 'Feature'},\n",
              "  {'geometry': {'coordinates': [[[1, 1, 0.0],\n",
              "      [1, 1, 0.0],\n",
              "      [1, 1, 0.0],\n",
              "      [1, 1, 0.0]]],\n",
              "    'type': 'Polygon'},\n",
              "   'properties': {'building_imcoords': 'EMPTY',\n",
              "    'image_id': 'OBJ03589_PS3_K3A_NIA0151.png',\n",
              "    'ingest_time': '2020-09-18T08:50:32.091450Z',\n",
              "    'object_angle': 0.05009021927389256,\n",
              "    'object_imcoords': '129.18511157057853,990.7163160659746,137.20982387717925,990.3140199529537,137.91502998948178,1004.3809621503041,129.89031768288106,1004.783258263325',\n",
              "    'road_imcoords': 'EMPTY',\n",
              "    'type_id': '5',\n",
              "    'type_name': 'small car'},\n",
              "   'type': 'Feature'},\n",
              "  {'geometry': {'coordinates': [[[1, 1, 0.0],\n",
              "      [1, 1, 0.0],\n",
              "      [1, 1, 0.0],\n",
              "      [1, 1, 0.0]]],\n",
              "    'type': 'Polygon'},\n",
              "   'properties': {'building_imcoords': 'EMPTY',\n",
              "    'image_id': 'OBJ03589_PS3_K3A_NIA0151.png',\n",
              "    'ingest_time': '2020-09-18T08:50:32.091450Z',\n",
              "    'object_angle': 0.07850760342163697,\n",
              "    'object_imcoords': '152.1556886432185,988.6799673331113,160.7579424401112,988.0032340961164,162.34459977313648,1008.1719332544355,153.74234597624377,1008.8486664914304',\n",
              "    'road_imcoords': 'EMPTY',\n",
              "    'type_id': '6',\n",
              "    'type_name': 'bus'},\n",
              "   'type': 'Feature'},\n",
              "  {'geometry': {'coordinates': [[[1, 1, 0.0],\n",
              "      [1, 1, 0.0],\n",
              "      [1, 1, 0.0],\n",
              "      [1, 1, 0.0]]],\n",
              "    'type': 'Polygon'},\n",
              "   'properties': {'building_imcoords': 'EMPTY',\n",
              "    'image_id': 'OBJ03589_PS3_K3A_NIA0151.png',\n",
              "    'ingest_time': '2020-09-18T08:50:32.091450Z',\n",
              "    'object_angle': 0.07850760342163697,\n",
              "    'object_imcoords': '160.91363084341853,987.5594917673709,169.51588464031124,986.882758530376,171.1025419733365,1007.0514576886951,162.5002881764438,1007.72819092569',\n",
              "    'road_imcoords': 'EMPTY',\n",
              "    'type_id': '6',\n",
              "    'type_name': 'bus'},\n",
              "   'type': 'Feature'},\n",
              "  {'geometry': {'coordinates': [[[1, 1, 0.0],\n",
              "      [1, 1, 0.0],\n",
              "      [1, 1, 0.0],\n",
              "      [1, 1, 0.0]]],\n",
              "    'type': 'Polygon'},\n",
              "   'properties': {'building_imcoords': 'EMPTY',\n",
              "    'image_id': 'OBJ03589_PS3_K3A_NIA0151.png',\n",
              "    'ingest_time': '2020-09-18T08:50:32.091450Z',\n",
              "    'object_angle': 0.7854705129083319,\n",
              "    'object_imcoords': '181.22015372641508,592.6240911670452,186.28865262064707,587.5548588129146,194.84754450754954,596.1125123261272,189.77904561331755,601.1817446802578',\n",
              "    'road_imcoords': 'EMPTY',\n",
              "    'type_id': '5',\n",
              "    'type_name': 'small car'},\n",
              "   'type': 'Feature'},\n",
              "  {'geometry': {'coordinates': [[[1, 1, 0.0],\n",
              "      [1, 1, 0.0],\n",
              "      [1, 1, 0.0],\n",
              "      [1, 1, 0.0]]],\n",
              "    'type': 'Polygon'},\n",
              "   'properties': {'building_imcoords': 'EMPTY',\n",
              "    'image_id': 'OBJ03589_PS3_K3A_NIA0151.png',\n",
              "    'ingest_time': '2020-09-18T08:50:32.091450Z',\n",
              "    'object_angle': 0.6105177709928139,\n",
              "    'object_imcoords': '920.3655125622529,875.4642746433829,924.7842994502744,872.3724943658036,932.0110819838399,882.7010458911095,927.5922950958184,885.7928261686887',\n",
              "    'road_imcoords': 'EMPTY',\n",
              "    'type_id': '7',\n",
              "    'type_name': 'truck'},\n",
              "   'type': 'Feature'},\n",
              "  {'geometry': {'coordinates': [[[1, 1, 0.0],\n",
              "      [1, 1, 0.0],\n",
              "      [1, 1, 0.0],\n",
              "      [1, 1, 0.0]]],\n",
              "    'type': 'Polygon'},\n",
              "   'properties': {'building_imcoords': 'EMPTY',\n",
              "    'image_id': 'OBJ03589_PS3_K3A_NIA0151.png',\n",
              "    'ingest_time': '2020-09-18T08:50:32.091450Z',\n",
              "    'object_angle': 6.283185307179586,\n",
              "    'object_imcoords': '145.54685855716275,892.0612576185077,151.68079352349997,892.0612576185077,151.68079352349997,901.3733428021013,145.54685855716275,901.3733428021013',\n",
              "    'road_imcoords': 'EMPTY',\n",
              "    'type_id': '5',\n",
              "    'type_name': 'small car'},\n",
              "   'type': 'Feature'},\n",
              "  {'geometry': {'coordinates': [[[1, 1, 0.0],\n",
              "      [1, 1, 0.0],\n",
              "      [1, 1, 0.0],\n",
              "      [1, 1, 0.0]]],\n",
              "    'type': 'Polygon'},\n",
              "   'properties': {'building_imcoords': 'EMPTY',\n",
              "    'image_id': 'OBJ03589_PS3_K3A_NIA0151.png',\n",
              "    'ingest_time': '2020-09-18T08:50:32.091450Z',\n",
              "    'object_angle': 6.283185307179586,\n",
              "    'object_imcoords': '150.37291142721844,938.0854879550161,157.0091490429073,938.0854879550161,157.0091490429073,949.3142154797847,150.37291142721844,949.3142154797847',\n",
              "    'road_imcoords': 'EMPTY',\n",
              "    'type_id': '5',\n",
              "    'type_name': 'small car'},\n",
              "   'type': 'Feature'},\n",
              "  {'geometry': {'coordinates': [[[1, 1, 0.0],\n",
              "      [1, 1, 0.0],\n",
              "      [1, 1, 0.0],\n",
              "      [1, 1, 0.0]]],\n",
              "    'type': 'Polygon'},\n",
              "   'properties': {'building_imcoords': 'EMPTY',\n",
              "    'image_id': 'OBJ03589_PS3_K3A_NIA0151.png',\n",
              "    'ingest_time': '2020-09-18T08:50:32.091450Z',\n",
              "    'object_angle': 7.872809906937037,\n",
              "    'object_imcoords': '173.7844366400063,965.9788796644236,173.6634252902061,959.5525308410754,184.68145001897565,959.3450559465107,184.80246136877585,965.7714047698589',\n",
              "    'road_imcoords': 'EMPTY',\n",
              "    'type_id': '5',\n",
              "    'type_name': 'small car'},\n",
              "   'type': 'Feature'},\n",
              "  {'geometry': {'coordinates': [[[1, 1, 0.0],\n",
              "      [1, 1, 0.0],\n",
              "      [1, 1, 0.0],\n",
              "      [1, 1, 0.0]]],\n",
              "    'type': 'Polygon'},\n",
              "   'properties': {'building_imcoords': 'EMPTY',\n",
              "    'image_id': 'OBJ03589_PS3_K3A_NIA0151.png',\n",
              "    'ingest_time': '2020-09-18T08:50:32.091450Z',\n",
              "    'object_angle': 1.7023094131691905,\n",
              "    'object_imcoords': '122.5384911173861,725.8469704511106,121.73321886658016,719.759178500582,130.8788672207784,718.5494234867588,131.68413947158433,724.6372154372873',\n",
              "    'road_imcoords': 'EMPTY',\n",
              "    'type_id': '5',\n",
              "    'type_name': 'small car'},\n",
              "   'type': 'Feature'},\n",
              "  {'geometry': {'coordinates': [[[1, 1, 0.0],\n",
              "      [1, 1, 0.0],\n",
              "      [1, 1, 0.0],\n",
              "      [1, 1, 0.0]]],\n",
              "    'type': 'Polygon'},\n",
              "   'properties': {'building_imcoords': 'EMPTY',\n",
              "    'image_id': 'OBJ03589_PS3_K3A_NIA0151.png',\n",
              "    'ingest_time': '2020-09-18T08:50:32.091450Z',\n",
              "    'object_angle': 4.638619028226539,\n",
              "    'object_imcoords': '959.8726408208985,552.6047592657908,959.4025326229323,558.9658195281783,946.8310503700887,558.0367359125751,947.3011585680549,551.6756756501876',\n",
              "    'road_imcoords': 'EMPTY',\n",
              "    'type_id': '7',\n",
              "    'type_name': 'truck'},\n",
              "   'type': 'Feature'},\n",
              "  {'geometry': {'coordinates': [[[1, 1, 0.0],\n",
              "      [1, 1, 0.0],\n",
              "      [1, 1, 0.0],\n",
              "      [1, 1, 0.0]]],\n",
              "    'type': 'Polygon'},\n",
              "   'properties': {'building_imcoords': 'EMPTY',\n",
              "    'image_id': 'OBJ03589_PS3_K3A_NIA0151.png',\n",
              "    'ingest_time': '2020-09-18T08:50:32.091450Z',\n",
              "    'object_angle': 4.652675493931677,\n",
              "    'object_imcoords': '960.0593728789659,545.6463245710105,959.6787222042063,552.0133642633106,947.0954226923009,551.261077222333,947.4760733670604,544.894037530033',\n",
              "    'road_imcoords': 'EMPTY',\n",
              "    'type_id': '7',\n",
              "    'type_name': 'truck'},\n",
              "   'type': 'Feature'},\n",
              "  {'geometry': {'coordinates': [[[1, 1, 0.0],\n",
              "      [1, 1, 0.0],\n",
              "      [1, 1, 0.0],\n",
              "      [1, 1, 0.0]]],\n",
              "    'type': 'Polygon'},\n",
              "   'properties': {'building_imcoords': 'EMPTY',\n",
              "    'image_id': 'OBJ03589_PS3_K3A_NIA0151.png',\n",
              "    'ingest_time': '2020-09-18T08:50:32.091450Z',\n",
              "    'object_angle': 0.1626056185736268,\n",
              "    'object_imcoords': '188.1476754452768,520.0679745874808,195.2215734778633,518.9074728315306,197.1809646380742,530.8510422421035,190.1070666054877,532.0115439980536',\n",
              "    'road_imcoords': 'EMPTY',\n",
              "    'type_id': '5',\n",
              "    'type_name': 'small car'},\n",
              "   'type': 'Feature'},\n",
              "  {'geometry': {'coordinates': [[[1, 1, 0.0],\n",
              "      [1, 1, 0.0],\n",
              "      [1, 1, 0.0],\n",
              "      [1, 1, 0.0]]],\n",
              "    'type': 'Polygon'},\n",
              "   'properties': {'building_imcoords': 'EMPTY',\n",
              "    'image_id': 'OBJ03589_PS3_K3A_NIA0151.png',\n",
              "    'ingest_time': '2020-09-18T08:50:32.091450Z',\n",
              "    'object_angle': 3.3703540519954625,\n",
              "    'object_imcoords': '213.37942264677008,658.9595929724406,209.24963171656233,659.9211620732756,206.8064844573637,649.4282215415554,210.93627538757144,648.4666524407205',\n",
              "    'road_imcoords': 'EMPTY',\n",
              "    'type_id': '7',\n",
              "    'type_name': 'truck'},\n",
              "   'type': 'Feature'}],\n",
              " 'type': 'FeatureCollection'}"
            ]
          },
          "metadata": {
            "tags": []
          },
          "execution_count": 10
        }
      ]
    },
    {
      "cell_type": "code",
      "metadata": {
        "id": "gImAG8zHHDRO"
      },
      "source": [
        "data_consist = pd.DataFrame()\n",
        "nm = []\n",
        "bbox_ls = []\n",
        "for idx, json_nm in enumerate(json_ls):\n",
        "  with open(os.path.join(rootfolder,f'train/json/{json_nm}')) as json_open:\n",
        "    json_file = json.load(json_open)\n",
        "\n",
        "  nm.append(json_nm.split('.')[0])\n",
        "  bbox_ls.append(len(json_file['features']))"
      ],
      "execution_count": null,
      "outputs": []
    },
    {
      "cell_type": "code",
      "metadata": {
        "id": "kI2fUaX8PaJz"
      },
      "source": [
        "json_file"
      ],
      "execution_count": null,
      "outputs": []
    },
    {
      "cell_type": "code",
      "metadata": {
        "id": "uKO5bZUQQnZ7"
      },
      "source": [
        "img_files = data_consist['nm'].iloc[:3].tolist()"
      ],
      "execution_count": null,
      "outputs": []
    },
    {
      "cell_type": "code",
      "metadata": {
        "id": "aL1YHHtYQ1j9",
        "colab": {
          "base_uri": "https://localhost:8080/",
          "height": 68
        },
        "outputId": "439b1a4f-f805-4049-ad93-6cda5c132653"
      },
      "source": [
        "img_files"
      ],
      "execution_count": null,
      "outputs": [
        {
          "output_type": "execute_result",
          "data": {
            "text/plain": [
              "['OBJ04712_PS3_K3A_NIA0313',\n",
              " 'OBJ03922_PS3_K3A_NIA0165',\n",
              " 'OBJ03977_PS3_K3A_NIA0166']"
            ]
          },
          "metadata": {
            "tags": []
          },
          "execution_count": 22
        }
      ]
    },
    {
      "cell_type": "code",
      "metadata": {
        "id": "IXwqfaS4QzDz"
      },
      "source": [
        "img_id_map= {img_file:i+1 for i, img_file in enumerate(list(set(img_files)))}\n",
        "image_ids = [img_id_map[img_file] for img_file in img_files]"
      ],
      "execution_count": null,
      "outputs": []
    },
    {
      "cell_type": "code",
      "metadata": {
        "id": "BGcmA8n0Q5es",
        "colab": {
          "base_uri": "https://localhost:8080/",
          "height": 68
        },
        "outputId": "cc35a434-102f-4b7b-bb4d-da5077c2d9fc"
      },
      "source": [
        "img_id_map"
      ],
      "execution_count": null,
      "outputs": [
        {
          "output_type": "execute_result",
          "data": {
            "text/plain": [
              "{'OBJ03922_PS3_K3A_NIA0165': 1,\n",
              " 'OBJ03977_PS3_K3A_NIA0166': 3,\n",
              " 'OBJ04712_PS3_K3A_NIA0313': 2}"
            ]
          },
          "metadata": {
            "tags": []
          },
          "execution_count": 24
        }
      ]
    },
    {
      "cell_type": "code",
      "metadata": {
        "id": "vpIgnLQtQ-jm",
        "colab": {
          "base_uri": "https://localhost:8080/",
          "height": 34
        },
        "outputId": "c966298f-53ea-472d-ceac-c6f233a1a138"
      },
      "source": [
        "image_ids"
      ],
      "execution_count": null,
      "outputs": [
        {
          "output_type": "execute_result",
          "data": {
            "text/plain": [
              "[2, 1, 3]"
            ]
          },
          "metadata": {
            "tags": []
          },
          "execution_count": 25
        }
      ]
    },
    {
      "cell_type": "code",
      "metadata": {
        "id": "uKISaOO5RER4",
        "colab": {
          "base_uri": "https://localhost:8080/",
          "height": 198
        },
        "outputId": "3d0db540-79cc-477c-b3ce-788c4bf41799"
      },
      "source": [
        "for imgfile in tqdm(img_id_map):\n",
        "  img_file"
      ],
      "execution_count": null,
      "outputs": [
        {
          "output_type": "stream",
          "text": [
            "  0%|          | 0/3 [00:00<?, ?it/s]\n"
          ],
          "name": "stderr"
        },
        {
          "output_type": "error",
          "ename": "NameError",
          "evalue": "ignored",
          "traceback": [
            "\u001b[0;31m---------------------------------------------------------------------------\u001b[0m",
            "\u001b[0;31mNameError\u001b[0m                                 Traceback (most recent call last)",
            "\u001b[0;32m<ipython-input-27-2fa5a73e0e46>\u001b[0m in \u001b[0;36m<module>\u001b[0;34m()\u001b[0m\n\u001b[1;32m      1\u001b[0m \u001b[0;32mfor\u001b[0m \u001b[0mimgfile\u001b[0m \u001b[0;32min\u001b[0m \u001b[0mtqdm\u001b[0m\u001b[0;34m(\u001b[0m\u001b[0mimg_id_map\u001b[0m\u001b[0;34m)\u001b[0m\u001b[0;34m:\u001b[0m\u001b[0;34m\u001b[0m\u001b[0;34m\u001b[0m\u001b[0m\n\u001b[0;32m----> 2\u001b[0;31m   \u001b[0mimg_file\u001b[0m\u001b[0;34m\u001b[0m\u001b[0;34m\u001b[0m\u001b[0m\n\u001b[0m",
            "\u001b[0;31mNameError\u001b[0m: name 'img_file' is not defined"
          ]
        }
      ]
    },
    {
      "cell_type": "code",
      "metadata": {
        "id": "BNUzdpVqOZMb"
      },
      "source": [
        "data_consist['nm'] = nm\n",
        "data_consist['bbox_len'] = bbox_ls"
      ],
      "execution_count": null,
      "outputs": []
    },
    {
      "cell_type": "code",
      "metadata": {
        "id": "mkS7I-zMQ48p"
      },
      "source": [
        ""
      ],
      "execution_count": null,
      "outputs": []
    },
    {
      "cell_type": "code",
      "metadata": {
        "id": "h2ryDcnwOew3",
        "colab": {
          "base_uri": "https://localhost:8080/",
          "height": 419
        },
        "outputId": "bf278ed7-5039-4889-9960-4b11c234bf14"
      },
      "source": [
        "data_consist.sort_values('bbox_len',ascending = False)"
      ],
      "execution_count": null,
      "outputs": [
        {
          "output_type": "execute_result",
          "data": {
            "text/html": [
              "<div>\n",
              "<style scoped>\n",
              "    .dataframe tbody tr th:only-of-type {\n",
              "        vertical-align: middle;\n",
              "    }\n",
              "\n",
              "    .dataframe tbody tr th {\n",
              "        vertical-align: top;\n",
              "    }\n",
              "\n",
              "    .dataframe thead th {\n",
              "        text-align: right;\n",
              "    }\n",
              "</style>\n",
              "<table border=\"1\" class=\"dataframe\">\n",
              "  <thead>\n",
              "    <tr style=\"text-align: right;\">\n",
              "      <th></th>\n",
              "      <th>nm</th>\n",
              "      <th>bbox_len</th>\n",
              "    </tr>\n",
              "  </thead>\n",
              "  <tbody>\n",
              "    <tr>\n",
              "      <th>460</th>\n",
              "      <td>OBJ03758_PS3_K3A_NIA0157</td>\n",
              "      <td>1637</td>\n",
              "    </tr>\n",
              "    <tr>\n",
              "      <th>461</th>\n",
              "      <td>OBJ04053_PS3_K3A_NIA0170</td>\n",
              "      <td>1411</td>\n",
              "    </tr>\n",
              "    <tr>\n",
              "      <th>540</th>\n",
              "      <td>OBJ04096_PS3_K3A_NIA0174</td>\n",
              "      <td>1170</td>\n",
              "    </tr>\n",
              "    <tr>\n",
              "      <th>483</th>\n",
              "      <td>OBJ03789_PS3_K3A_NIA0158</td>\n",
              "      <td>1160</td>\n",
              "    </tr>\n",
              "    <tr>\n",
              "      <th>526</th>\n",
              "      <td>OBJ05425_PS3_K3A_NIA0349</td>\n",
              "      <td>1109</td>\n",
              "    </tr>\n",
              "    <tr>\n",
              "      <th>...</th>\n",
              "      <td>...</td>\n",
              "      <td>...</td>\n",
              "    </tr>\n",
              "    <tr>\n",
              "      <th>425</th>\n",
              "      <td>OBJ04620_PS3_K3A_NIA0303</td>\n",
              "      <td>1</td>\n",
              "    </tr>\n",
              "    <tr>\n",
              "      <th>394</th>\n",
              "      <td>OBJ02596_PS3_K3_NIA0124</td>\n",
              "      <td>1</td>\n",
              "    </tr>\n",
              "    <tr>\n",
              "      <th>422</th>\n",
              "      <td>OBJ04134_PS3_K3A_NIA0177</td>\n",
              "      <td>1</td>\n",
              "    </tr>\n",
              "    <tr>\n",
              "      <th>416</th>\n",
              "      <td>OBJ02310_PS3_K3_NIA0118</td>\n",
              "      <td>1</td>\n",
              "    </tr>\n",
              "    <tr>\n",
              "      <th>408</th>\n",
              "      <td>OBJ00743_PS3_K3_NIA0088</td>\n",
              "      <td>1</td>\n",
              "    </tr>\n",
              "  </tbody>\n",
              "</table>\n",
              "<p>800 rows × 2 columns</p>\n",
              "</div>"
            ],
            "text/plain": [
              "                           nm  bbox_len\n",
              "460  OBJ03758_PS3_K3A_NIA0157      1637\n",
              "461  OBJ04053_PS3_K3A_NIA0170      1411\n",
              "540  OBJ04096_PS3_K3A_NIA0174      1170\n",
              "483  OBJ03789_PS3_K3A_NIA0158      1160\n",
              "526  OBJ05425_PS3_K3A_NIA0349      1109\n",
              "..                        ...       ...\n",
              "425  OBJ04620_PS3_K3A_NIA0303         1\n",
              "394   OBJ02596_PS3_K3_NIA0124         1\n",
              "422  OBJ04134_PS3_K3A_NIA0177         1\n",
              "416   OBJ02310_PS3_K3_NIA0118         1\n",
              "408   OBJ00743_PS3_K3_NIA0088         1\n",
              "\n",
              "[800 rows x 2 columns]"
            ]
          },
          "metadata": {
            "tags": []
          },
          "execution_count": 19
        }
      ]
    },
    {
      "cell_type": "code",
      "metadata": {
        "id": "E9tAmp0fHAQB"
      },
      "source": [
        "img = cv2.imread(os.path.join(rootfolder,'train/images/OBJ03589_PS3_K3A_NIA0151.png') , cv2.COLOR_BGR2RGB)\n",
        "img = cv2.cvtColor(img, cv2.COLOR_BGR2RGB)\n",
        "#plt.figure(figsize = (16,16)) #용량 문제로 주석 처리\n",
        "plt.imshow(img) "
      ],
      "execution_count": null,
      "outputs": []
    }
  ]
}
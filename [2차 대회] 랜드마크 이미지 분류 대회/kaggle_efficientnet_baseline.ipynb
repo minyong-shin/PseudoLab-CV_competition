{
  "nbformat": 4,
  "nbformat_minor": 0,
  "metadata": {
    "accelerator": "GPU",
    "colab": {
      "name": "kaggle efficientnet baseline.ipynb",
      "provenance": [],
      "collapsed_sections": []
    },
    "kernelspec": {
      "display_name": "Python 3",
      "name": "python3"
    },
    "widgets": {
      "application/vnd.jupyter.widget-state+json": {
        "57f88287231f40c9a22f4c7a9b832a82": {
          "model_module": "@jupyter-widgets/controls",
          "model_name": "HBoxModel",
          "state": {
            "_view_name": "HBoxView",
            "_dom_classes": [],
            "_model_name": "HBoxModel",
            "_view_module": "@jupyter-widgets/controls",
            "_model_module_version": "1.5.0",
            "_view_count": null,
            "_view_module_version": "1.5.0",
            "box_style": "",
            "layout": "IPY_MODEL_4584c75f3d394dd3935c781ba8da8b9a",
            "_model_module": "@jupyter-widgets/controls",
            "children": [
              "IPY_MODEL_8f4de82217984f96ab87ec7d0b0dd042",
              "IPY_MODEL_f4940715cde9428aa144737ffdfa4e31"
            ]
          }
        },
        "4584c75f3d394dd3935c781ba8da8b9a": {
          "model_module": "@jupyter-widgets/base",
          "model_name": "LayoutModel",
          "state": {
            "_view_name": "LayoutView",
            "grid_template_rows": null,
            "right": null,
            "justify_content": null,
            "_view_module": "@jupyter-widgets/base",
            "overflow": null,
            "_model_module_version": "1.2.0",
            "_view_count": null,
            "flex_flow": null,
            "width": null,
            "min_width": null,
            "border": null,
            "align_items": null,
            "bottom": null,
            "_model_module": "@jupyter-widgets/base",
            "top": null,
            "grid_column": null,
            "overflow_y": null,
            "overflow_x": null,
            "grid_auto_flow": null,
            "grid_area": null,
            "grid_template_columns": null,
            "flex": null,
            "_model_name": "LayoutModel",
            "justify_items": null,
            "grid_row": null,
            "max_height": null,
            "align_content": null,
            "visibility": null,
            "align_self": null,
            "height": null,
            "min_height": null,
            "padding": null,
            "grid_auto_rows": null,
            "grid_gap": null,
            "max_width": null,
            "order": null,
            "_view_module_version": "1.2.0",
            "grid_template_areas": null,
            "object_position": null,
            "object_fit": null,
            "grid_auto_columns": null,
            "margin": null,
            "display": null,
            "left": null
          }
        },
        "8f4de82217984f96ab87ec7d0b0dd042": {
          "model_module": "@jupyter-widgets/controls",
          "model_name": "FloatProgressModel",
          "state": {
            "_view_name": "ProgressView",
            "style": "IPY_MODEL_b1bac999b0874e08b33eca46fe8ea949",
            "_dom_classes": [],
            "description": "100%",
            "_model_name": "FloatProgressModel",
            "bar_style": "success",
            "max": 21388428,
            "_view_module": "@jupyter-widgets/controls",
            "_model_module_version": "1.5.0",
            "value": 21388428,
            "_view_count": null,
            "_view_module_version": "1.5.0",
            "orientation": "horizontal",
            "min": 0,
            "description_tooltip": null,
            "_model_module": "@jupyter-widgets/controls",
            "layout": "IPY_MODEL_951b5b39b77a4e6098faa1543a8a8904"
          }
        },
        "f4940715cde9428aa144737ffdfa4e31": {
          "model_module": "@jupyter-widgets/controls",
          "model_name": "HTMLModel",
          "state": {
            "_view_name": "HTMLView",
            "style": "IPY_MODEL_f554573063694c05824a002c24666d51",
            "_dom_classes": [],
            "description": "",
            "_model_name": "HTMLModel",
            "placeholder": "​",
            "_view_module": "@jupyter-widgets/controls",
            "_model_module_version": "1.5.0",
            "value": " 20.4M/20.4M [00:01&lt;00:00, 18.3MB/s]",
            "_view_count": null,
            "_view_module_version": "1.5.0",
            "description_tooltip": null,
            "_model_module": "@jupyter-widgets/controls",
            "layout": "IPY_MODEL_d0f0cd04d43b4c2bbb4a79bb3a4b1b04"
          }
        },
        "b1bac999b0874e08b33eca46fe8ea949": {
          "model_module": "@jupyter-widgets/controls",
          "model_name": "ProgressStyleModel",
          "state": {
            "_view_name": "StyleView",
            "_model_name": "ProgressStyleModel",
            "description_width": "initial",
            "_view_module": "@jupyter-widgets/base",
            "_model_module_version": "1.5.0",
            "_view_count": null,
            "_view_module_version": "1.2.0",
            "bar_color": null,
            "_model_module": "@jupyter-widgets/controls"
          }
        },
        "951b5b39b77a4e6098faa1543a8a8904": {
          "model_module": "@jupyter-widgets/base",
          "model_name": "LayoutModel",
          "state": {
            "_view_name": "LayoutView",
            "grid_template_rows": null,
            "right": null,
            "justify_content": null,
            "_view_module": "@jupyter-widgets/base",
            "overflow": null,
            "_model_module_version": "1.2.0",
            "_view_count": null,
            "flex_flow": null,
            "width": null,
            "min_width": null,
            "border": null,
            "align_items": null,
            "bottom": null,
            "_model_module": "@jupyter-widgets/base",
            "top": null,
            "grid_column": null,
            "overflow_y": null,
            "overflow_x": null,
            "grid_auto_flow": null,
            "grid_area": null,
            "grid_template_columns": null,
            "flex": null,
            "_model_name": "LayoutModel",
            "justify_items": null,
            "grid_row": null,
            "max_height": null,
            "align_content": null,
            "visibility": null,
            "align_self": null,
            "height": null,
            "min_height": null,
            "padding": null,
            "grid_auto_rows": null,
            "grid_gap": null,
            "max_width": null,
            "order": null,
            "_view_module_version": "1.2.0",
            "grid_template_areas": null,
            "object_position": null,
            "object_fit": null,
            "grid_auto_columns": null,
            "margin": null,
            "display": null,
            "left": null
          }
        },
        "f554573063694c05824a002c24666d51": {
          "model_module": "@jupyter-widgets/controls",
          "model_name": "DescriptionStyleModel",
          "state": {
            "_view_name": "StyleView",
            "_model_name": "DescriptionStyleModel",
            "description_width": "",
            "_view_module": "@jupyter-widgets/base",
            "_model_module_version": "1.5.0",
            "_view_count": null,
            "_view_module_version": "1.2.0",
            "_model_module": "@jupyter-widgets/controls"
          }
        },
        "d0f0cd04d43b4c2bbb4a79bb3a4b1b04": {
          "model_module": "@jupyter-widgets/base",
          "model_name": "LayoutModel",
          "state": {
            "_view_name": "LayoutView",
            "grid_template_rows": null,
            "right": null,
            "justify_content": null,
            "_view_module": "@jupyter-widgets/base",
            "overflow": null,
            "_model_module_version": "1.2.0",
            "_view_count": null,
            "flex_flow": null,
            "width": null,
            "min_width": null,
            "border": null,
            "align_items": null,
            "bottom": null,
            "_model_module": "@jupyter-widgets/base",
            "top": null,
            "grid_column": null,
            "overflow_y": null,
            "overflow_x": null,
            "grid_auto_flow": null,
            "grid_area": null,
            "grid_template_columns": null,
            "flex": null,
            "_model_name": "LayoutModel",
            "justify_items": null,
            "grid_row": null,
            "max_height": null,
            "align_content": null,
            "visibility": null,
            "align_self": null,
            "height": null,
            "min_height": null,
            "padding": null,
            "grid_auto_rows": null,
            "grid_gap": null,
            "max_width": null,
            "order": null,
            "_view_module_version": "1.2.0",
            "grid_template_areas": null,
            "object_position": null,
            "object_fit": null,
            "grid_auto_columns": null,
            "margin": null,
            "display": null,
            "left": null
          }
        }
      }
    }
  },
  "cells": [
    {
      "cell_type": "code",
      "metadata": {
        "id": "BBUYAZ8xS47i",
        "colab": {
          "base_uri": "https://localhost:8080/"
        },
        "outputId": "0d301b7b-5e57-4693-d28a-facf4df0b5fb"
      },
      "source": [
        "!pip install efficientnet_pytorch"
      ],
      "execution_count": null,
      "outputs": [
        {
          "output_type": "stream",
          "text": [
            "Collecting efficientnet_pytorch\n",
            "  Downloading https://files.pythonhosted.org/packages/4e/83/f9c5f44060f996279e474185ebcbd8dbd91179593bffb9abe3afa55d085b/efficientnet_pytorch-0.7.0.tar.gz\n",
            "Requirement already satisfied: torch in /usr/local/lib/python3.6/dist-packages (from efficientnet_pytorch) (1.7.0+cu101)\n",
            "Requirement already satisfied: future in /usr/local/lib/python3.6/dist-packages (from torch->efficientnet_pytorch) (0.16.0)\n",
            "Requirement already satisfied: numpy in /usr/local/lib/python3.6/dist-packages (from torch->efficientnet_pytorch) (1.18.5)\n",
            "Requirement already satisfied: typing-extensions in /usr/local/lib/python3.6/dist-packages (from torch->efficientnet_pytorch) (3.7.4.3)\n",
            "Requirement already satisfied: dataclasses in /usr/local/lib/python3.6/dist-packages (from torch->efficientnet_pytorch) (0.7)\n",
            "Building wheels for collected packages: efficientnet-pytorch\n",
            "  Building wheel for efficientnet-pytorch (setup.py) ... \u001b[?25l\u001b[?25hdone\n",
            "  Created wheel for efficientnet-pytorch: filename=efficientnet_pytorch-0.7.0-cp36-none-any.whl size=16031 sha256=224d805531224f9d2cb17e3ac7b624ccecec32769cdac2990f31b8d734f9ad44\n",
            "  Stored in directory: /root/.cache/pip/wheels/e9/c6/e1/7a808b26406239712cfce4b5ceeb67d9513ae32aa4b31445c6\n",
            "Successfully built efficientnet-pytorch\n",
            "Installing collected packages: efficientnet-pytorch\n",
            "Successfully installed efficientnet-pytorch-0.7.0\n"
          ],
          "name": "stdout"
        }
      ]
    },
    {
      "cell_type": "code",
      "metadata": {
        "id": "U6BNiZWFTAMz",
        "colab": {
          "base_uri": "https://localhost:8080/"
        },
        "outputId": "3a7e5034-c8b6-4088-eb2f-6dfae943b8c4"
      },
      "source": [
        "!pip install torch_optimizer"
      ],
      "execution_count": null,
      "outputs": [
        {
          "output_type": "stream",
          "text": [
            "Collecting torch_optimizer\n",
            "\u001b[?25l  Downloading https://files.pythonhosted.org/packages/23/16/29a9a7f0403b491cef1af417c0d06f0f65cffd65660954476f887bf94da8/torch_optimizer-0.0.1a16-py3-none-any.whl (51kB)\n",
            "\r\u001b[K     |██████▍                         | 10kB 19.9MB/s eta 0:00:01\r\u001b[K     |████████████▊                   | 20kB 17.9MB/s eta 0:00:01\r\u001b[K     |███████████████████             | 30kB 13.8MB/s eta 0:00:01\r\u001b[K     |█████████████████████████▍      | 40kB 12.9MB/s eta 0:00:01\r\u001b[K     |███████████████████████████████▊| 51kB 12.2MB/s eta 0:00:01\r\u001b[K     |████████████████████████████████| 61kB 5.7MB/s \n",
            "\u001b[?25hCollecting pytorch-ranger>=0.1.1\n",
            "  Downloading https://files.pythonhosted.org/packages/0d/70/12256257d861bbc3e176130d25be1de085ce7a9e60594064888a950f2154/pytorch_ranger-0.1.1-py3-none-any.whl\n",
            "Requirement already satisfied: torch>=1.1.0 in /usr/local/lib/python3.6/dist-packages (from torch_optimizer) (1.7.0+cu101)\n",
            "Requirement already satisfied: numpy in /usr/local/lib/python3.6/dist-packages (from torch>=1.1.0->torch_optimizer) (1.18.5)\n",
            "Requirement already satisfied: future in /usr/local/lib/python3.6/dist-packages (from torch>=1.1.0->torch_optimizer) (0.16.0)\n",
            "Requirement already satisfied: dataclasses in /usr/local/lib/python3.6/dist-packages (from torch>=1.1.0->torch_optimizer) (0.7)\n",
            "Requirement already satisfied: typing-extensions in /usr/local/lib/python3.6/dist-packages (from torch>=1.1.0->torch_optimizer) (3.7.4.3)\n",
            "Installing collected packages: pytorch-ranger, torch-optimizer\n",
            "Successfully installed pytorch-ranger-0.1.1 torch-optimizer-0.0.1a16\n"
          ],
          "name": "stdout"
        }
      ]
    },
    {
      "cell_type": "markdown",
      "metadata": {
        "id": "Hr2s955FvAHz"
      },
      "source": [
        "- 코랩 세션 자동연결 콘솔코드\n",
        "- https://bryan7.tistory.com/1077"
      ]
    },
    {
      "cell_type": "code",
      "metadata": {
        "id": "wSXw2RcoSza_"
      },
      "source": [
        "import os\n",
        "import gc\n",
        "gc.enable()\n",
        "import sys\n",
        "import math\n",
        "import json\n",
        "import time\n",
        "import random\n",
        "from glob import glob\n",
        "from datetime import datetime\n",
        "\n",
        "import cv2\n",
        "import pandas as pd\n",
        "import numpy as np\n",
        "import matplotlib.pyplot as plt\n",
        "from PIL import Image\n",
        "import multiprocessing\n",
        "from sklearn.preprocessing import LabelEncoder\n",
        "\n",
        "import torch\n",
        "import torchvision\n",
        "from torch import Tensor\n",
        "from torchvision import transforms\n",
        "import torch.nn as nn\n",
        "import torch.nn.functional as F\n",
        "from torch.autograd import Variable\n",
        "from torch.nn.parameter import Parameter\n",
        "from torch.optim import lr_scheduler, Adam\n",
        "from torch.utils.data import DataLoader, Dataset\n",
        "from torch.utils.data.sampler import SequentialSampler\n",
        "from tqdm import tqdm\n",
        "from efficientnet_pytorch import EfficientNet\n",
        "# import efficientnet_pytorch\n",
        "\n",
        "import torch_optimizer as optim\n",
        "import albumentations as A\n",
        "\n",
        "import sklearn\n",
        "\n",
        "import matplotlib.image as mpimg\n",
        "\n",
        "import warnings\n",
        "warnings.filterwarnings(\"ignore\")"
      ],
      "execution_count": null,
      "outputs": []
    },
    {
      "cell_type": "code",
      "metadata": {
        "id": "SckM_n-3dp1o",
        "colab": {
          "base_uri": "https://localhost:8080/"
        },
        "outputId": "264e3676-eece-428f-966b-b1cdbb82a5b9"
      },
      "source": [
        "gpu_info = !nvidia-smi\n",
        "gpu_info = '\\n'.join(gpu_info)\n",
        "if gpu_info.find('failed') >= 0:\n",
        "  print('Select the Runtime > \"Change runtime type\" menu to enable a GPU accelerator, ')\n",
        "  print('and then re-execute this cell.')\n",
        "else:\n",
        "  print(gpu_info)"
      ],
      "execution_count": null,
      "outputs": [
        {
          "output_type": "stream",
          "text": [
            "Tue Nov 17 15:12:06 2020       \n",
            "+-----------------------------------------------------------------------------+\n",
            "| NVIDIA-SMI 455.38       Driver Version: 418.67       CUDA Version: 10.1     |\n",
            "|-------------------------------+----------------------+----------------------+\n",
            "| GPU  Name        Persistence-M| Bus-Id        Disp.A | Volatile Uncorr. ECC |\n",
            "| Fan  Temp  Perf  Pwr:Usage/Cap|         Memory-Usage | GPU-Util  Compute M. |\n",
            "|                               |                      |               MIG M. |\n",
            "|===============================+======================+======================|\n",
            "|   0  Tesla K80           Off  | 00000000:00:04.0 Off |                    0 |\n",
            "| N/A   33C    P8    28W / 149W |      0MiB / 11441MiB |      0%      Default |\n",
            "|                               |                      |                 ERR! |\n",
            "+-------------------------------+----------------------+----------------------+\n",
            "                                                                               \n",
            "+-----------------------------------------------------------------------------+\n",
            "| Processes:                                                                  |\n",
            "|  GPU   GI   CI        PID   Type   Process name                  GPU Memory |\n",
            "|        ID   ID                                                   Usage      |\n",
            "|=============================================================================|\n",
            "|  No running processes found                                                 |\n",
            "+-----------------------------------------------------------------------------+\n"
          ],
          "name": "stdout"
        }
      ]
    },
    {
      "cell_type": "code",
      "metadata": {
        "id": "DcY2Ip7dS0VM",
        "colab": {
          "base_uri": "https://localhost:8080/"
        },
        "outputId": "e3b1a6e5-4a25-4648-f90f-f8cec8c3c699"
      },
      "source": [
        "# IN_KERNEL = os.environ.get('KAGGLE_WORKING_DIR') is not None\n",
        "# MIN_SAMPLES_PER_CLASS = 10\n",
        "# BATCH_SIZE = 12\n",
        "# NUM_WORKERS =1 #multiprocessing.cpu_count()\n",
        "# MAX_STEPS_PER_EPOCH = 15000\n",
        "# NUM_EPOCHS = 20\n",
        "# LOG_FREQ = 10\n",
        "# NUM_TOP_PREDICTS = 1 # top k??: 마지막 벡터 = class 가장 높은 confidence 값을 가진 클래스를 어떤 것으로 할지\n",
        "\n",
        "#####\n",
        "torch.cuda.empty_cache()\n",
        "\n",
        "IN_KERNEL = os.environ.get('KAGGLE_WORKING_DIR') is not None\n",
        "MIN_SAMPLES_PER_CLASS = 10\n",
        "BATCH_SIZE = 36 # 36\n",
        "#BATCH_SIZE = 1\n",
        "#NUM_WORKERS = multiprocessing.cpu_count()\n",
        "NUM_WORKERS = 0\n",
        "print(NUM_WORKERS)\n",
        "MAX_STEPS_PER_EPOCH = 15000\n",
        "NUM_EPOCHS = 1 # 50\n",
        "LOG_FREQ = 100\n",
        "NUM_TOP_PREDICTS = 1\n",
        "ENABLE_FAST_SKIP = True\n"
      ],
      "execution_count": null,
      "outputs": [
        {
          "output_type": "stream",
          "text": [
            "0\n"
          ],
          "name": "stdout"
        }
      ]
    },
    {
      "cell_type": "code",
      "metadata": {
        "id": "umL7OUijTIwu"
      },
      "source": [
        "train = pd.read_csv('/content/drive/My Drive/Dacon-랜드마크 이미지 분류/lanmark_dataset/train.csv')\n",
        "test = pd.read_csv('/content/drive/My Drive/Dacon-랜드마크 이미지 분류/lanmark_dataset/sample_submisstion.csv')\n",
        "train_dir = '/content/drive/My Drive/Dacon-랜드마크 이미지 분류/lanmark_dataset/train_dataset/'\n",
        "test_dir = '/content/drive/My Drive/Dacon-랜드마크 이미지 분류/lanmark_dataset/test_dataset/'\n",
        "model_path = '/content/drive/My Drive/Dacon-랜드마크 이미지 분류/lanmark_dataset/model_201114.pth'"
      ],
      "execution_count": null,
      "outputs": []
    },
    {
      "cell_type": "markdown",
      "metadata": {
        "id": "K2h21Pbk5J51"
      },
      "source": [
        "# Dataset 정의"
      ]
    },
    {
      "cell_type": "code",
      "metadata": {
        "id": "yTpf-OG15N4e"
      },
      "source": [
        "# class ImageDataset(torch.utils.data.Dataset):\n",
        "#     # 해당 코드는 변경할 필요가 없음\n",
        "#     def __init__(self, dataframe: pd.DataFrame, image_dir:str, mode: str):\n",
        "#         self.df = dataframe\n",
        "#         self.mode = mode\n",
        "#         self.image_dir = image_dir\n",
        "        \n",
        "#         transforms_list = []\n",
        "#         if self.mode == 'train':\n",
        "#             # Increase image size from (64,64) to higher resolution,\n",
        "#             # Make sure to change in RandomResizedCrop as well.\n",
        "#             transforms_list = [\n",
        "#                 transforms.Resize((64,64)),\n",
        "#                 transforms.RandomHorizontalFlip(),\n",
        "#                 transforms.RandomChoice([\n",
        "#                     transforms.RandomResizedCrop(64),\n",
        "#                     transforms.ColorJitter(0.2, 0.2, 0.2, 0.2),\n",
        "#                     transforms.RandomAffine(degrees=15, translate=(0.2, 0.2),\n",
        "#                                             scale=(0.8, 1.2), shear=15,\n",
        "#                                             resample=Image.BILINEAR)\n",
        "#                 ]),\n",
        "#                 transforms.ToTensor(),\n",
        "#                 transforms.Normalize(mean=[0.485, 0.456, 0.406],\n",
        "#                                       std=[0.229, 0.224, 0.225]),\n",
        "#             ]\n",
        "#         else:\n",
        "#             transforms_list.extend([\n",
        "#                 # Keep this resize same as train\n",
        "#                 transforms.Resize((64,64)),\n",
        "#                 transforms.ToTensor(),\n",
        "#                 transforms.Normalize(mean=[0.485, 0.456, 0.406],\n",
        "#                                       std=[0.229, 0.224, 0.225]),\n",
        "#             ])\n",
        "#         self.transforms = transforms.Compose(transforms_list)\n",
        "\n",
        "#     def __getitem__(self, index: int):\n",
        "#         # 데이터에서 이미지 정의하는 부분\n",
        "\n",
        "#         # 이미지 이름\n",
        "#         image_id = self.df.iloc[index].id\n",
        "#         # 해당 이미지가 들어 있는 폴더 이름\n",
        "#         #image_folder = ' '.join(self.df['id'].iloc[index].split('_')[:-1])\n",
        "#         image_path = f\"{self.image_dir}/{image_id}.JPG\"\n",
        "\n",
        "#         image = Image.open(image_path)\n",
        "#         image = self.transforms(image)\n",
        "\n",
        "#         if self.mode == 'test':\n",
        "#             return {'image':image}\n",
        "#         else:\n",
        "#             image_plt = mpimg.imread(image_path)\n",
        "#             plt.axis(\"off\")\n",
        "#             plt.imshow(image_plt)\n",
        "#             plt.show()\n",
        "#             print(f\"class : {self.df.iloc[index].landmark_id}\")\n",
        "#             return {'image':image, \n",
        "#                     'target':self.df.iloc[index].landmark_id}\n",
        "\n",
        "#     def __len__(self) -> int:\n",
        "#         return self.df.shape[0]\n",
        "\n",
        "\n",
        "###########\n",
        "IMG_SIZE = 224\n",
        "\n",
        "class ImageDataset(torch.utils.data.Dataset):\n",
        "    def __init__(self, dataframe: pd.DataFrame, image_dir:str, mode: str):\n",
        "        self.df = dataframe\n",
        "        self.mode = mode\n",
        "        self.image_dir = image_dir\n",
        "        print(f\"self.image_dir : {image_dir}\")\n",
        "        \n",
        "        transforms_list = []\n",
        "        if self.mode == 'train':\n",
        "            # Increase image size from (64,64) to higher resolution,\n",
        "            # Make sure to change in RandomResizedCrop as well.\n",
        "            transforms_list = [\n",
        "                transforms.Resize((IMG_SIZE,IMG_SIZE)),\n",
        "                transforms.RandomHorizontalFlip(),\n",
        "                transforms.RandomChoice([\n",
        "                    transforms.RandomResizedCrop(IMG_SIZE),\n",
        "                    transforms.ColorJitter(0.2, 0.2, 0.2, 0.2),\n",
        "                    transforms.RandomAffine(degrees=15, translate=(0.2, 0.2),\n",
        "                                            scale=(0.8, 1.2), shear=15,\n",
        "                                            resample=Image.BILINEAR)\n",
        "                ]),\n",
        "                transforms.ToTensor(),\n",
        "                #transforms.Normalize(mean=[0.485, 0.456, 0.406],\n",
        "                #                      std=[0.229, 0.224, 0.225]),\n",
        "                transforms.Normalize(mean=[0.4452, 0.4457, 0.4464],\n",
        "                                      std=[0.2592, 0.2596, 0.2600]),\n",
        "            ]\n",
        "        else:\n",
        "            transforms_list.extend([\n",
        "                # Keep this resize same as train\n",
        "                transforms.Resize((IMG_SIZE,IMG_SIZE)),\n",
        "                transforms.ToTensor(),\n",
        "                #transforms.Normalize(mean=[0.485, 0.456, 0.406],\n",
        "                #                      std=[0.229, 0.224, 0.225]),\n",
        "                transforms.Normalize(mean=[0.4452, 0.4457, 0.4464],\n",
        "                                      std=[0.2592, 0.2596, 0.2600]),\n",
        "            ])\n",
        "        self.transforms = transforms.Compose(transforms_list)\n",
        "\n",
        "    def __getitem__(self, index: int):\n",
        "        image_id = self.df.iloc[index].id\n",
        "        #image_path = f\"{self.image_dir}/{image_id[0]}/{image_id[1]}/{image_id[2]}/{image_id}.jpg\"\n",
        "        image_path = f\"{self.image_dir}{image_id}.JPG\"\n",
        "        image = Image.open(image_path)\n",
        "        image = self.transforms(image)\n",
        "\n",
        "        if self.mode == 'test':\n",
        "            return {'image':image}\n",
        "        else:\n",
        "            #import matplotlib.image as mpimg\n",
        "            #image_plt = mpimg.imread(image_path)\n",
        "            #plt.axis(\"off\")\n",
        "            #plt.imshow(image_plt)\n",
        "            #plt.show()\n",
        "            #print(f\"class : {self.df.iloc[index].landmark_id}\")\n",
        "            return {'image':image, \n",
        "                    'target':self.df.iloc[index].landmark_id}\n",
        "\n",
        "    def __len__(self) -> int:\n",
        "        return self.df.shape[0]\n",
        "    \n",
        "    \n",
        "# class LandmarkDataset(Dataset):\n",
        "#     def __init__(self, mode: str = 'train', transforms: transforms = None):\n",
        "#         self.mode = mode\n",
        "#         self.image_ids = glob.glob(f'./data/{mode}/**/**/*')\n",
        "#         if self.mode == 'train':\n",
        "#             with open('./data/train.csv') as f:\n",
        "#                 labels = list(csv.reader(f))[1:]\n",
        "#                 self.labels = {label[0]: int(label[1]) for label in labels}\n",
        "\n",
        "#         self.transforms = transforms\n",
        "\n",
        "#     def __len__(self):\n",
        "#         return len(self.image_ids)\n",
        "\n",
        "#     def __getitem__(self, index: int) -> Tuple[Tensor]:\n",
        "#         image = Image.open(self.image_ids[index]).convert('RGB')\n",
        "#         image_id = os.path.splitext(os.path.basename(self.image_ids[index]))[0]\n",
        "#         if self.transforms is not None:\n",
        "#             image = self.transforms(image)\n",
        "        \n",
        "#         if self.mode == 'train':\n",
        "#             label = self.labels[image_id]\n",
        "#             return image, label\n",
        "#         else:\n",
        "#             return image_id, image"
      ],
      "execution_count": null,
      "outputs": []
    },
    {
      "cell_type": "code",
      "metadata": {
        "id": "YWkHe2p-SViO"
      },
      "source": [
        "image_id = train.iloc[2].id\n",
        "image_path = f\"{train_dir}{image_id}.JPG\""
      ],
      "execution_count": null,
      "outputs": []
    },
    {
      "cell_type": "code",
      "metadata": {
        "id": "-Z1leUuTTQgI"
      },
      "source": [
        "temp_ls = os.listdir(train_dir)"
      ],
      "execution_count": null,
      "outputs": []
    },
    {
      "cell_type": "code",
      "metadata": {
        "id": "IbvVKLfYRD8I",
        "colab": {
          "base_uri": "https://localhost:8080/",
          "height": 236
        },
        "outputId": "ec5f7ab6-130d-41bf-8991-bf253f020b63"
      },
      "source": [
        "image_plt = mpimg.imread(image_path)\n",
        "plt.axis(\"off\")\n",
        "plt.imshow(image_plt)\n",
        "plt.show()\n",
        "print(f\"class : {train.iloc[0].landmark_id}\")"
      ],
      "execution_count": null,
      "outputs": [
        {
          "output_type": "display_data",
          "data": {
            "image/png": "[encoded data removed]",
            "text/plain": [
              "<Figure size 432x288 with 1 Axes>"
            ]
          },
          "metadata": {
            "tags": [],
            "needs_background": "light"
          }
        },
        {
          "output_type": "stream",
          "text": [
            "class : 114\n"
          ],
          "name": "stdout"
        }
      ]
    },
    {
      "cell_type": "markdown",
      "metadata": {
        "id": "dWG8WMH7-9kY"
      },
      "source": [
        "# Data loader"
      ]
    },
    {
      "cell_type": "code",
      "metadata": {
        "id": "MGJl5eSwDQxd"
      },
      "source": [
        "# def load_data(train, train_dir): #test,test_dir\n",
        "#     counts = train.landmark_id.value_counts()\n",
        "#     print(counts)\n",
        "#     selected_classes = counts[counts >= MIN_SAMPLES_PER_CLASS].index\n",
        "#     num_classes = selected_classes.shape[0]\n",
        "#     print('classes with at least N samples:', num_classes)\n",
        "\n",
        "#     train = train.loc[train.landmark_id.isin(selected_classes)]\n",
        "#     print('train_df', train.shape)\n",
        "#     # print('test_df', test.shape)\n",
        "\n",
        "#     # filter non-existing test images\n",
        "#     # exists = lambda img: os.path.exists(f'{test_dir}/{img[0]}/{img[1]}/{img[2]}/{img}.jpg')\n",
        "#     # test = test.loc[test.id.apply(exists)]\n",
        "#     # print('test_df after filtering', test.shape)\n",
        "\n",
        "#     label_encoder = LabelEncoder()\n",
        "#     label_encoder.fit(train.landmark_id.values)\n",
        "#     print('found classes', len(label_encoder.classes_))\n",
        "#     assert len(label_encoder.classes_) == num_classes\n",
        "\n",
        "#     train.landmark_id = label_encoder.transform(train.landmark_id)\n",
        "\n",
        "#     train_dataset = ImageDataset(train, train_dir, mode='train')\n",
        "#     # test_dataset = ImageDataset(test, test_dir, mode='test')\n",
        "\n",
        "#     train_loader = DataLoader(train_dataset, batch_size=BATCH_SIZE,\n",
        "#                               shuffle=False, num_workers=4, drop_last=True)\n",
        "\n",
        "#     # test_loader = DataLoader(test_dataset, batch_size=BATCH_SIZE,\n",
        "#     #                          shuffle=False, num_workers=NUM_WORKERS)\n",
        "\n",
        "#     return train_loader, label_encoder, num_classes # ,test_loader\n",
        "\n",
        "#####################\n",
        "def load_data(train, test, train_dir, test_dir):\n",
        "    counts = train.landmark_id.value_counts()\n",
        "    selected_classes = counts[counts >= MIN_SAMPLES_PER_CLASS].index\n",
        "    num_classes = selected_classes.shape[0]\n",
        "    print('classes with at least N samples:', num_classes)\n",
        "\n",
        "    train = train.loc[train.landmark_id.isin(selected_classes)]\n",
        "    print('train_df', train.shape)\n",
        "    print('test_df', test.shape)\n",
        "\n",
        "    # filter non-existing test images\n",
        "    #exists = lambda img: os.path.exists(f'{test_dir}/{img[0]}/{img[1]}/{img[2]}/{img}.jpg')\n",
        "    exists = lambda img: os.path.exists(f'{test_dir}/{img}.JPG')\n",
        "    test = test.loc[test.id.apply(exists)]\n",
        "    print('test_df after filtering', test.shape)\n",
        "\n",
        "    label_encoder = LabelEncoder()\n",
        "    label_encoder.fit(train.landmark_id.values)\n",
        "    print('found classes', len(label_encoder.classes_))\n",
        "    assert len(label_encoder.classes_) == num_classes\n",
        "\n",
        "    train.landmark_id = label_encoder.transform(train.landmark_id)\n",
        "\n",
        "    train_dataset = ImageDataset(train, train_dir, mode='train')\n",
        "    test_dataset = ImageDataset(test, test_dir, mode='test')\n",
        "\n",
        "    train_loader = DataLoader(train_dataset, batch_size=BATCH_SIZE,\n",
        "                              shuffle=True, num_workers=NUM_WORKERS, drop_last=True)\n",
        "\n",
        "    test_loader = DataLoader(test_dataset, batch_size=BATCH_SIZE,\n",
        "                             shuffle=False, num_workers=NUM_WORKERS)\n",
        "\n",
        "    return train_loader, test_loader, label_encoder, num_classes"
      ],
      "execution_count": null,
      "outputs": []
    },
    {
      "cell_type": "markdown",
      "metadata": {
        "id": "5sLebAw1DXor"
      },
      "source": [
        "# Optimizer"
      ]
    },
    {
      "cell_type": "code",
      "metadata": {
        "id": "XtLTqG-PDTt1"
      },
      "source": [
        "# def radam(parameters, lr=1e-3, betas=(0.9, 0.999), eps=1e-8, weight_decay=0):\n",
        "#     if isinstance(betas, str):\n",
        "#         betas = eval(betas)\n",
        "#     return optim.RAdam(parameters,\n",
        "#                       lr=lr,\n",
        "#                       betas=betas,\n",
        "#                       eps=eps,\n",
        "#                       weight_decay=weight_decay)\n",
        "\n",
        "def adam(parameters, lr=1e-3, betas=(0.9, 0.999), eps=1e-8, weight_decay=0):\n",
        "    if isinstance(betas, str):\n",
        "        betas = eval(betas)\n",
        "    return Adam(parameters,\n",
        "                lr=lr,\n",
        "                betas=betas,\n",
        "                eps=eps,\n",
        "                weight_decay=weight_decay)"
      ],
      "execution_count": null,
      "outputs": []
    },
    {
      "cell_type": "markdown",
      "metadata": {
        "id": "WSEb438CDZrh"
      },
      "source": [
        "# Metrics"
      ]
    },
    {
      "cell_type": "code",
      "metadata": {
        "id": "WjjDmBIlDVQn"
      },
      "source": [
        "\n",
        "# class AverageMeter:\n",
        "#     ''' Computes and stores the average and current value '''\n",
        "#     def __init__(self) -> None:\n",
        "#         self.reset()\n",
        "\n",
        "#     def reset(self) -> None:\n",
        "#         self.val = 0.0\n",
        "#         self.avg = 0.0\n",
        "#         self.sum = 0.0\n",
        "#         self.count = 0\n",
        "\n",
        "#     def update(self, val: float, n: int = 1) -> None:\n",
        "#         self.val = val\n",
        "#         self.sum += val * n\n",
        "#         self.count += n\n",
        "#         self.avg = self.sum / self.count\n",
        "\n",
        "\n",
        "class AverageMeter:\n",
        "    ''' Computes and stores the average and current value '''\n",
        "    def __init__(self) -> None:\n",
        "        self.reset()\n",
        "\n",
        "    def reset(self) -> None:\n",
        "        self.val = 0.0\n",
        "        self.avg = 0.0\n",
        "        self.sum = 0.0\n",
        "        self.count = 0\n",
        "\n",
        "    def update(self, val: float, n: int = 1) -> None:\n",
        "        self.val = val\n",
        "        self.sum += val * n\n",
        "        self.count += n\n",
        "        self.avg = self.sum / self.count"
      ],
      "execution_count": null,
      "outputs": []
    },
    {
      "cell_type": "code",
      "metadata": {
        "id": "VqRLT2XdDf8q"
      },
      "source": [
        "# def GAP(predicts: torch.Tensor, confs: torch.Tensor, targets: torch.Tensor) -> float:\n",
        "#     ''' Simplified GAP@1 metric: only one prediction per sample is supported '''\n",
        "#     assert len(predicts.shape) == 1\n",
        "#     assert len(confs.shape) == 1\n",
        "#     assert len(targets.shape) == 1\n",
        "#     assert predicts.shape == confs.shape and confs.shape == targets.shape\n",
        "\n",
        "#     _, indices = torch.sort(confs, descending=True)\n",
        "\n",
        "#     confs = confs.cpu().numpy()\n",
        "#     predicts = predicts[indices].cpu().numpy()\n",
        "#     targets = targets[indices].cpu().numpy()\n",
        "\n",
        "#     res, true_pos = 0.0, 0\n",
        "\n",
        "#     for i, (c, p, t) in enumerate(zip(confs, predicts, targets)):\n",
        "#         rel = int(p == t)\n",
        "#         true_pos += rel\n",
        "\n",
        "#         res += true_pos / (i + 1) * rel\n",
        "\n",
        "#     res /= targets.shape[0] # FIXME: incorrect, not all test images depict landmarks\n",
        "#     return res\n",
        "\n",
        "####\n",
        "def GAP(predicts: torch.Tensor, confs: torch.Tensor, targets: torch.Tensor) -> float:\n",
        "    ''' Simplified GAP@1 metric: only one prediction per sample is supported '''\n",
        "    assert len(predicts.shape) == 1\n",
        "    assert len(confs.shape) == 1\n",
        "    assert len(targets.shape) == 1\n",
        "    assert predicts.shape == confs.shape and confs.shape == targets.shape\n",
        "\n",
        "    _, indices = torch.sort(confs, descending=True)\n",
        "\n",
        "    confs = confs.cpu().numpy()\n",
        "    predicts = predicts[indices].cpu().numpy()\n",
        "    targets = targets[indices].cpu().numpy()\n",
        "\n",
        "    res, true_pos = 0.0, 0\n",
        "\n",
        "    for i, (c, p, t) in enumerate(zip(confs, predicts, targets)):\n",
        "        rel = int(p == t)\n",
        "        true_pos += rel\n",
        "\n",
        "        res += true_pos / (i + 1) * rel\n",
        "\n",
        "    res /= targets.shape[0] # FIXME: incorrect, not all test images depict landmarks\n",
        "    return res"
      ],
      "execution_count": null,
      "outputs": []
    },
    {
      "cell_type": "markdown",
      "metadata": {
        "id": "MaJ9UIXgDgQr"
      },
      "source": [
        "# Modeling"
      ]
    },
    {
      "cell_type": "code",
      "metadata": {
        "id": "Ph8nxoQGDvCo"
      },
      "source": [
        "# class EfficientNetEncoderHead(nn.Module):\n",
        "#     def __init__(self, depth, num_classes):\n",
        "#         super(EfficientNetEncoderHead, self).__init__()\n",
        "#         self.depth = depth\n",
        "#         self.base = efficientnet_pytorch.EfficientNet.from_pretrained(f'efficientnet-b{self.depth}')\n",
        "#         self.avg_pool = nn.AdaptiveAvgPool2d(1)\n",
        "#         self.output_filter = self.base._fc.in_features\n",
        "#         self.classifier = nn.Linear(self.output_filter, num_classes)\n",
        "#     def forward(self, x):\n",
        "#         x = self.base.extract_features(x)\n",
        "#         x = self.avg_pool(x).squeeze(-1).squeeze(-1)\n",
        "#         x = self.classifier(x)\n",
        "#         return x\n",
        "\n",
        "####\n",
        "\n",
        "# class EfficientNetEncoderHead(nn.Module):\n",
        "#     def __init__(self, depth, num_classes):\n",
        "#         super(EfficientNetEncoderHead, self).__init__()\n",
        "#         self.depth = depth\n",
        "#         self.base = efficientnet_pytorch.EfficientNet.from_name(f'efficientnet-b{self.depth}')\n",
        "#         # pretrained_file = glob(f'../dataset/pretrained/efficientnet-b{self.depth}*')[0]\n",
        "#         # pretrained_file = efficientnet_pytorch.EfficientNet.from_pretrained(f'efficientnet-b{self.depth}')\n",
        "#         # self.base.load_state_dict(torch.load(pretrained_file))\n",
        "#         self.avg_pool = nn.AdaptiveAvgPool2d(1)\n",
        "#         self.output_filter = self.base._fc.in_features\n",
        "#         self.classifier = nn.Linear(self.output_filter, num_classes)\n",
        "#     def forward(self, x):\n",
        "#         x = self.base.extract_features(x)\n",
        "#         x = self.avg_pool(x).squeeze(-1).squeeze(-1)\n",
        "#         x = self.classifier(x)\n",
        "#         return x\n",
        "\n",
        "# Efficient Net을 불러와서 적용 \n",
        "\n",
        "class EfficientNetEncoderHead(nn.Module):\n",
        "    def __init__(self, depth, num_classes):\n",
        "        super(EfficientNetEncoderHead, self).__init__()\n",
        "        self.depth = depth\n",
        "        self.base = EfficientNet.from_pretrained(f'efficientnet-b{self.depth}')\n",
        "        self.avg_pool = nn.AdaptiveAvgPool2d(1)\n",
        "        self.output_filter = self.base._fc.in_features\n",
        "        self.classifier = nn.Linear(self.output_filter, num_classes)\n",
        "        \n",
        "    def forward(self, x):\n",
        "        x = self.base.extract_features(x)\n",
        "        x = self.avg_pool(x).squeeze(-1).squeeze(-1)\n",
        "        x = self.classifier(x)\n",
        "        return x"
      ],
      "execution_count": null,
      "outputs": []
    },
    {
      "cell_type": "markdown",
      "metadata": {
        "id": "9OlBxYoCEEVD"
      },
      "source": [
        "# training"
      ]
    },
    {
      "cell_type": "code",
      "metadata": {
        "id": "0FuLopJ9EFzY"
      },
      "source": [
        "# def train_step(train_loader, \n",
        "#           model, \n",
        "#           criterion, \n",
        "#           optimizer,\n",
        "#           epoch, \n",
        "#           lr_scheduler):\n",
        "#     print(f'epoch {epoch}')\n",
        "#     batch_time = AverageMeter()\n",
        "#     losses = AverageMeter()\n",
        "#     avg_score = AverageMeter()\n",
        "\n",
        "#     model.train()\n",
        "#     num_steps = min(len(train_loader), MAX_STEPS_PER_EPOCH)\n",
        "\n",
        "#     print(f'total batches: {num_steps}')\n",
        "\n",
        "#     end = time.time()\n",
        "#     lr = None\n",
        "\n",
        "#     for i, data in enumerate(train_loader):\n",
        "#         input_ = data['image']\n",
        "#         target = data['target']\n",
        "#         batch_size, _, _, _ = input_.shape\n",
        "        \n",
        "#         output = model(input_.cuda())\n",
        "#         loss = criterion(output, target.cuda())\n",
        "#         confs, predicts = torch.max(output.detach(), dim=1)\n",
        "#         avg_score.update(GAP(predicts, confs, target))\n",
        "#         losses.update(loss.data.item(), input_.size(0))\n",
        "#         optimizer.zero_grad()\n",
        "#         loss.backward()\n",
        "#         optimizer.step()\n",
        "#         lr_scheduler.step()\n",
        "#         lr = optimizer.param_groups[0]['lr']\n",
        "        \n",
        "#         batch_time.update(time.time() - end)\n",
        "#         end = time.time()\n",
        "\n",
        "#         if i % LOG_FREQ == 0:\n",
        "#             print(f'{epoch} [{i}/{num_steps}]\\t'\n",
        "#                     f'time {batch_time.val:.3f} ({batch_time.avg:.3f})\\t'\n",
        "#                     f'loss {losses.val:.4f} ({losses.avg:.4f})\\t'\n",
        "#                     f'GAP {avg_score.val:.4f} ({avg_score.avg:.4f})'\n",
        "#                     + str(lr))\n",
        "\n",
        "#     print(f' * average GAP on train {avg_score.avg:.4f}')\n",
        "\n",
        "\n",
        "\n",
        "def train_step(train_loader, \n",
        "          model, \n",
        "          criterion, \n",
        "          optimizer,\n",
        "          epoch, \n",
        "          lr_scheduler):\n",
        "    print(f'epoch {epoch}')\n",
        "    batch_time = AverageMeter()\n",
        "    losses = AverageMeter()\n",
        "    avg_score = AverageMeter()\n",
        "\n",
        "    model.train()\n",
        "    num_steps = min(len(train_loader), MAX_STEPS_PER_EPOCH)\n",
        "\n",
        "    print(f'total batches: {num_steps}')\n",
        "\n",
        "    end = time.time()\n",
        "    lr = None\n",
        "\n",
        "    for i, data in enumerate(train_loader):\n",
        "        input_ = data['image']\n",
        "        target = data['target']\n",
        "        batch_size, _, _, _ = input_.shape\n",
        "        \n",
        "        output = model(input_.cuda())\n",
        "        loss = criterion(output, target.cuda())\n",
        "        confs, predicts = torch.max(output.detach(), dim=1)\n",
        "        avg_score.update(GAP(predicts, confs, target))\n",
        "        losses.update(loss.data.item(), input_.size(0))\n",
        "        optimizer.zero_grad()\n",
        "        loss.backward()\n",
        "        optimizer.step()\n",
        "        \n",
        "        lr_scheduler.step()\n",
        "        lr = optimizer.param_groups[0]['lr']\n",
        "        #lr_scheduler.step(loss) # !! \n",
        "        \n",
        "        batch_time.update(time.time() - end)\n",
        "        end = time.time()\n",
        "\n",
        "        if i % LOG_FREQ == 0:\n",
        "            print(f'[EPOCH {epoch}] [{i}/{num_steps}]\\t'\n",
        "                    f'time {batch_time.val:.3f} ({batch_time.avg:.3f})\\t'\n",
        "                    f'loss {losses.val:.4f} ({losses.avg:.4f})\\t'\n",
        "                    f'GAP {avg_score.val:.4f} ({avg_score.avg:.4f})'\n",
        "                    + str(lr))\n",
        "\n",
        "    #torch.save(model.cpu().state_dict(), model_path)        \n",
        "    print(f' * average GAP on train {avg_score.avg:.4f}')"
      ],
      "execution_count": null,
      "outputs": []
    },
    {
      "cell_type": "markdown",
      "metadata": {
        "id": "yKExVp7JENhn"
      },
      "source": [
        "# inference"
      ]
    },
    {
      "cell_type": "code",
      "metadata": {
        "id": "E4hF_g8mEPwc"
      },
      "source": [
        "# def inference(data_loader, model):\n",
        "#     model.eval()\n",
        "\n",
        "#     activation = nn.Softmax(dim=1)\n",
        "#     all_predicts, all_confs, all_targets = [], [], []\n",
        "\n",
        "#     with torch.no_grad():\n",
        "#         for i, data in enumerate(tqdm(data_loader, disable=IN_KERNEL)):\n",
        "#             if data_loader.dataset.mode != 'test':\n",
        "#                 input_, target = data['image'], data['target']\n",
        "#             else:\n",
        "#                 input_, target = data['image'], None\n",
        "\n",
        "#             output = model(input_.cuda())\n",
        "#             output = activation(output)\n",
        "\n",
        "#             confs, predicts = torch.topk(output, NUM_TOP_PREDICTS)\n",
        "#             all_confs.append(confs)\n",
        "#             all_predicts.append(predicts)\n",
        "\n",
        "#             if target is not None:\n",
        "#                 all_targets.append(target)\n",
        "\n",
        "#     predicts = torch.cat(all_predicts)\n",
        "#     confs = torch.cat(all_confs)\n",
        "#     targets = torch.cat(all_targets) if len(all_targets) else None\n",
        "\n",
        "#     return predicts, confs, targets\n",
        "\n",
        "\n",
        "def inference(data_loader, model):\n",
        "    model.eval()\n",
        "\n",
        "    activation = nn.Softmax(dim=1)\n",
        "    all_predicts, all_confs, all_targets = [], [], []\n",
        "\n",
        "    with torch.no_grad():\n",
        "        for i, data in enumerate(tqdm(data_loader, disable=IN_KERNEL)):\n",
        "            if data_loader.dataset.mode != 'test':\n",
        "                input_, target = data['image'], data['target']\n",
        "            else:\n",
        "                input_, target = data['image'], None\n",
        "\n",
        "            output = model(input_.cuda())\n",
        "            output = activation(output)\n",
        "\n",
        "            confs, predicts = torch.topk(output, NUM_TOP_PREDICTS)\n",
        "            all_confs.append(confs)\n",
        "            all_predicts.append(predicts)\n",
        "\n",
        "            if target is not None:\n",
        "                all_targets.append(target)\n",
        "\n",
        "    predicts = torch.cat(all_predicts)\n",
        "    confs = torch.cat(all_confs)\n",
        "    targets = torch.cat(all_targets) if len(all_targets) else None\n",
        "\n",
        "    return predicts, confs, targets"
      ],
      "execution_count": null,
      "outputs": []
    },
    {
      "cell_type": "markdown",
      "metadata": {
        "id": "Sv2NRWFPEHBF"
      },
      "source": [
        "# process"
      ]
    },
    {
      "cell_type": "code",
      "metadata": {
        "id": "stzLLbYPENUh",
        "colab": {
          "base_uri": "https://localhost:8080/"
        },
        "outputId": "8561ef7f-9f60-47e6-9289-5880b443505d"
      },
      "source": [
        "global_start_time = time.time()\n",
        "train_loader, label_encoder, num_classes = load_data(\n",
        "    train, train_dir\n",
        ") # test_loader, test , test_dir"
      ],
      "execution_count": null,
      "outputs": [
        {
          "output_type": "stream",
          "text": [
            "classes with at least N samples: 1049\n",
            "train_df (88102, 2)\n",
            "found classes 1049\n",
            "self.image_dir : /content/drive/My Drive/Dacon-랜드마크 이미지 분류/lanmark_dataset/train_dataset/\n"
          ],
          "name": "stdout"
        }
      ]
    },
    {
      "cell_type": "code",
      "metadata": {
        "id": "GspRPiFOGipE"
      },
      "source": [
        "# model = EfficientNetEncoderHead(depth=0, num_classes=num_classes)\n",
        "model = EfficientNetEncoderHead(depth=0, num_classes=num_classes)\n",
        "model.cuda()"
      ],
      "execution_count": null,
      "outputs": []
    },
    {
      "cell_type": "code",
      "metadata": {
        "id": "FFyEDYt0FMur"
      },
      "source": [
        "# criterion = nn.CrossEntropyLoss()\n",
        "\n",
        "# optimizer = radam(model.parameters(), lr=1e-3, betas=(0.9,0.999), eps=1e-3, weight_decay=1e-4)\n",
        "# scheduler = lr_scheduler.CosineAnnealingLR(optimizer, T_max=len(train_loader)*NUM_EPOCHS, eta_min=1e-6)\n",
        "\n",
        "# for epoch in range(1, NUM_EPOCHS + 1):\n",
        "#     print('-' * 50)\n",
        "#     train_step(train_loader, model, criterion, optimizer, epoch, scheduler)\n",
        "\n",
        "criterion = nn.CrossEntropyLoss()\n",
        "\n",
        "optimizer = adam(model.parameters(), lr=1e-3, betas=(0.9,0.999), eps=1e-3, weight_decay=1e-4)\n",
        "scheduler = lr_scheduler.CosineAnnealingLR(optimizer, T_max=len(train_loader)*NUM_EPOCHS, eta_min=1e-6)\n",
        "\n",
        "# 원하는 에폭마다, 이전 학습률 대비 변경폭에 따라 학습률을 감소시켜주는 방식\n",
        "#scheduler = lr_scheduler.ReduceLROnPlateau(optimizer,factor=0.9, threshold=1,patience=1, verbose=1, mode='min', min-delta=0.0001)\n",
        "\n",
        "for epoch in range(1, NUM_EPOCHS + 1):\n",
        "    print('-' * 50)\n",
        "    train_step(train_loader, model, criterion, optimizer, epoch, scheduler)\n",
        "    # print(\"[SAVE MODEL]\")\n",
        "    # torch.save(model.cpu().state_dict(), model_path+str(epoch))\n",
        "    # model.cuda()"
      ],
      "execution_count": null,
      "outputs": []
    },
    {
      "cell_type": "markdown",
      "metadata": {
        "id": "9a0Rnl46wSXC"
      },
      "source": [
        "# generation"
      ]
    },
    {
      "cell_type": "code",
      "metadata": {
        "id": "LtW8L5bBwVJj"
      },
      "source": [
        "def generate_submission(test_loader, model, label_encoder):\n",
        "    sample_sub = pd.read_csv('/content/drive/My Drive/Dacon-랜드마크 이미지 분류/lanmark_dataset/sample_submisstion.csv')\n",
        "\n",
        "    predicts_gpu, confs_gpu, _ = inference(test_loader, model)\n",
        "    predicts, confs = predicts_gpu.cpu().numpy(), confs_gpu.cpu().numpy()\n",
        "\n",
        "    labels = [label_encoder.inverse_transform(pred) for pred in predicts]\n",
        "    print('labels')\n",
        "    print(np.array(labels))\n",
        "    print('confs')\n",
        "    print(np.array(confs))\n",
        "\n",
        "    sub = test_loader.dataset.df\n",
        "    def concat(label: np.ndarray, conf: np.ndarray) -> str:\n",
        "        return ' '.join([f'{L} {c}' for L, c in zip(label, conf)])\n",
        "    sub['landmarks'] = [concat(label, conf) for label, conf in zip(labels, confs)]\n",
        "\n",
        "    sample_sub = sample_sub.set_index('id')\n",
        "    sub = sub.set_index('id')\n",
        "    sample_sub.update(sub)\n",
        "\n",
        "    sample_sub.to_csv('/content/drive/My Drive/Dacon-랜드마크 이미지 분류/lanmark_dataset/submission.csv')"
      ],
      "execution_count": null,
      "outputs": []
    },
    {
      "cell_type": "code",
      "metadata": {
        "id": "nHe9xbjOwWE9",
        "colab": {
          "base_uri": "https://localhost:8080/",
          "height": 443,
          "referenced_widgets": [
            "57f88287231f40c9a22f4c7a9b832a82",
            "4584c75f3d394dd3935c781ba8da8b9a",
            "8f4de82217984f96ab87ec7d0b0dd042",
            "f4940715cde9428aa144737ffdfa4e31",
            "b1bac999b0874e08b33eca46fe8ea949",
            "951b5b39b77a4e6098faa1543a8a8904",
            "f554573063694c05824a002c24666d51",
            "d0f0cd04d43b4c2bbb4a79bb3a4b1b04"
          ]
        },
        "outputId": "097c6428-5399-40d9-972d-6e775b8a21b5"
      },
      "source": [
        "if __name__ == '__main__':\n",
        "    global_start_time = time.time()\n",
        "    train_loader, test_loader, label_encoder, num_classes = load_data(train, test, train_dir, test_dir)\n",
        "\n",
        "    if ENABLE_FAST_SKIP and test.id[0] == \"00084cdf8f600d00\":\n",
        "        # This is a run on the public data, skip it to speed up submission run on private data.\n",
        "        print(\"Skipping run on public test set.\")\n",
        "        sample_sub = pd.read_csv('/content/drive/My Drive/Dacon-랜드마크 이미지 분류/lanmark_dataset/sample_submisstion.csv')\n",
        "        sample_sub.to_csv('submission.csv')\n",
        "    else:\n",
        "        model = EfficientNetEncoderHead(depth=0, num_classes=num_classes)\n",
        "#         #freeze\n",
        "#         lt=8\n",
        "#         cntr=0\n",
        "#         for child in model.children():\n",
        "#         cntr+=1\n",
        "#         if cntr < lt:\n",
        "#             print(child)\n",
        "#             for param in child.parameters():\n",
        "#                 param.requires_grad = False\n",
        "        model.cuda()\n",
        "        \n",
        "        criterion = nn.CrossEntropyLoss()\n",
        "\n",
        "        optimizer = adam(model.parameters(), lr=1e-3, betas=(0.9,0.999), eps=1e-3, weight_decay=1e-4)\n",
        "        scheduler = lr_scheduler.CosineAnnealingLR(optimizer, T_max=len(train_loader)*NUM_EPOCHS, eta_min=1e-6)\n",
        "        \n",
        "        # 원하는 에폭마다, 이전 학습률 대비 변경폭에 따라 학습률을 감소시켜주는 방식\n",
        "        #scheduler = lr_scheduler.ReduceLROnPlateau(optimizer,factor=0.9, threshold=1,patience=1, verbose=1, mode='min', min-delta=0.0001)\n",
        "\n",
        "        for epoch in range(1, NUM_EPOCHS + 1):\n",
        "            print('-' * 50)\n",
        "            train_step(train_loader, model, criterion, optimizer, epoch, scheduler)\n",
        "            print(\"[SAVE MODEL]\")\n",
        "            torch.save(model.cpu().state_dict(), model_path+str(epoch))\n",
        "            model.cuda()\n",
        "        torch.save(model.cpu().state_dict(), model_path)\n",
        "\n",
        "        print('inference mode')\n",
        "        generate_submission(test_loader, model, label_encoder)"
      ],
      "execution_count": null,
      "outputs": [
        {
          "output_type": "stream",
          "text": [
            "classes with at least N samples: 1049\n",
            "train_df (88102, 2)\n",
            "test_df (37964, 3)\n",
            "test_df after filtering (37964, 3)\n",
            "found classes 1049\n",
            "self.image_dir : /content/drive/My Drive/Dacon-랜드마크 이미지 분류/lanmark_dataset/train_dataset/\n",
            "self.image_dir : /content/drive/My Drive/Dacon-랜드마크 이미지 분류/lanmark_dataset/test_dataset/\n"
          ],
          "name": "stdout"
        },
        {
          "output_type": "stream",
          "text": [
            "Downloading: \"https://github.com/lukemelas/EfficientNet-PyTorch/releases/download/1.0/efficientnet-b0-355c32eb.pth\" to /root/.cache/torch/hub/checkpoints/efficientnet-b0-355c32eb.pth\n"
          ],
          "name": "stderr"
        },
        {
          "output_type": "display_data",
          "data": {
            "application/vnd.jupyter.widget-view+json": {
              "model_id": "57f88287231f40c9a22f4c7a9b832a82",
              "version_minor": 0,
              "version_major": 2
            },
            "text/plain": [
              "HBox(children=(FloatProgress(value=0.0, max=21388428.0), HTML(value='')))"
            ]
          },
          "metadata": {
            "tags": []
          }
        },
        {
          "output_type": "stream",
          "text": [
            "\n",
            "Loaded pretrained weights for efficientnet-b0\n",
            "--------------------------------------------------\n",
            "epoch 1\n",
            "total batches: 2447\n",
            "[EPOCH 1] [0/2447]\ttime 32.863 (32.863)\tloss 6.9397 (6.9397)\tGAP 0.0000 (0.0000)0.0009999995883413514\n",
            "[EPOCH 1] [100/2447]\ttime 29.983 (29.666)\tloss 5.9114 (6.6747)\tGAP 0.0457 (0.0211)0.0009958065502621307\n",
            "[EPOCH 1] [200/2447]\ttime 28.892 (30.069)\tloss 4.1494 (6.0063)\tGAP 0.1263 (0.0612)0.000983460665739289\n",
            "[EPOCH 1] [300/2447]\ttime 35.114 (29.867)\tloss 3.3587 (5.2361)\tGAP 0.3337 (0.1373)0.0009631651505402596\n",
            "[EPOCH 1] [400/2447]\ttime 28.310 (29.764)\tloss 2.0592 (4.5829)\tGAP 0.5851 (0.2164)0.000935254072968447\n",
            "[EPOCH 1] [500/2447]\ttime 27.777 (29.753)\tloss 1.5730 (4.0663)\tGAP 0.6553 (0.2883)0.0009001868550310888\n",
            "[EPOCH 1] [600/2447]\ttime 28.229 (29.475)\tloss 1.2002 (3.6516)\tGAP 0.7219 (0.3500)0.0008585407102596772\n",
            "[EPOCH 1] [700/2447]\ttime 30.260 (29.174)\tloss 1.4900 (3.3255)\tGAP 0.6487 (0.4003)0.0008110011426579665\n",
            "[EPOCH 1] [800/2447]\ttime 28.119 (28.779)\tloss 1.6284 (3.0568)\tGAP 0.5848 (0.4425)0.0007583506631668017\n"
          ],
          "name": "stdout"
        }
      ]
    },
    {
      "cell_type": "code",
      "metadata": {
        "id": "Lb1DdpOcwWmL"
      },
      "source": [
        ""
      ],
      "execution_count": null,
      "outputs": []
    },
    {
      "cell_type": "code",
      "metadata": {
        "id": "OkAxIYryiDsV"
      },
      "source": [
        "from efficientnet_pytorch import EfficientNet "
      ],
      "execution_count": null,
      "outputs": []
    },
    {
      "cell_type": "code",
      "metadata": {
        "id": "0BoqMKgwiFeF",
        "colab": {
          "base_uri": "https://localhost:8080/"
        },
        "outputId": "718cd675-75cd-4c66-9f7a-adcdf1851691"
      },
      "source": [
        "model = EfficientNet.from_name('efficientnet-b0')\n",
        "model = EfficientNet.from_pretrained('efficientnet-b0')"
      ],
      "execution_count": null,
      "outputs": [
        {
          "output_type": "stream",
          "text": [
            "Loaded pretrained weights for efficientnet-b0\n"
          ],
          "name": "stdout"
        }
      ]
    },
    {
      "cell_type": "code",
      "metadata": {
        "id": "Awe6x3onH5Cm"
      },
      "source": [
        "global_start_time = time.time()\n",
        "train_loader, test_loader, label_encoder, num_classes = load_data(train, test, train_dir, test_dir)\n",
        "\n",
        "if ENABLE_FAST_SKIP and test.id[0] == \"00084cdf8f600d00\":\n",
        "    # This is a run on the public data, skip it to speed up submission run on private data.\n",
        "    print(\"Skipping run on public test set.\")\n",
        "    sample_sub = pd.read_csv('../input/landmark-recognition-2020/sample_submission.csv')\n",
        "    sample_sub.to_csv('submission.csv')\n",
        "else:\n",
        "    model = EfficientNetEncoderHead(depth=4, num_classes=num_classes)\n",
        "#         #freeze\n",
        "#         lt=8\n",
        "#         cntr=0\n",
        "#         for child in model.children():\n",
        "#         cntr+=1\n",
        "#         if cntr < lt:\n",
        "#             print(child)\n",
        "#             for param in child.parameters():\n",
        "#                 param.requires_grad = False\n",
        "    model.cuda()\n",
        "    \n",
        "    criterion = nn.CrossEntropyLoss()\n",
        "\n",
        "    optimizer = adam(model.parameters(), lr=1e-3, betas=(0.9,0.999), eps=1e-3, weight_decay=1e-4)\n",
        "    scheduler = lr_scheduler.CosineAnnealingLR(optimizer, T_max=len(train_loader)*NUM_EPOCHS, eta_min=1e-6)\n",
        "    \n",
        "    # 원하는 에폭마다, 이전 학습률 대비 변경폭에 따라 학습률을 감소시켜주는 방식\n",
        "    #scheduler = lr_scheduler.ReduceLROnPlateau(optimizer,factor=0.9, threshold=1,patience=1, verbose=1, mode='min', min-delta=0.0001)\n",
        "\n",
        "    for epoch in range(1, NUM_EPOCHS + 1):\n",
        "        print('-' * 50)\n",
        "        train_step(train_loader, model, criterion, optimizer, epoch, scheduler)\n",
        "        print(\"[SAVE MODEL]\")\n",
        "        torch.save(model.cpu().state_dict(), model_path+str(epoch))\n",
        "        model.cuda()\n",
        "    torch.save(model.cpu().state_dict(), model_path)\n",
        "\n",
        "    print('inference mode')\n",
        "    generate_submission(test_loader, model, label_encoder)"
      ],
      "execution_count": null,
      "outputs": []
    },
    {
      "cell_type": "markdown",
      "metadata": {
        "id": "YMvqMGzSk_aU"
      },
      "source": [
        "# 교차검증"
      ]
    },
    {
      "cell_type": "code",
      "metadata": {
        "id": "JAxfSKuFkZiT"
      },
      "source": [
        "folds = StratifiedKFold(n_splits=5, shuffle = True, random_state=111)\n",
        "\n",
        "for n_fold, (train_idx, valid_idx) in enumerate()"
      ],
      "execution_count": null,
      "outputs": []
    },
    {
      "cell_type": "code",
      "metadata": {
        "id": "H8sH9Nx3wLt9"
      },
      "source": [
        ""
      ],
      "execution_count": null,
      "outputs": []
    },
    {
      "cell_type": "code",
      "metadata": {
        "id": "uS7lRkqbX524"
      },
      "source": [
        "# function ClickConnect() {\n",
        "#     // 백엔드를 할당하지 못했습니다.\n",
        "#     // GPU이(가) 있는 백엔드를 사용할 수 없습니다. 가속기가 없는 런타임을 사용하시겠습니까?\n",
        "#     // 취소 버튼을 찾아서 클릭\n",
        "#     var buttons = document.querySelectorAll(\"colab-dialog.yes-no-dialog paper-button#cancel\"); \n",
        "#     buttons.forEach(function(btn) {\n",
        "# \t\tbtn.click();\n",
        "#     });\n",
        "#     console.log(\"1분마다 자동 재연결\");\n",
        "#     document.querySelector(\"#top-toolbar > colab-connect-button > colab-toolbar-button\").click();\n",
        "# }\n",
        "# setInterval(ClickConnect,1000*60);"
      ],
      "execution_count": null,
      "outputs": []
    }
  ]
}